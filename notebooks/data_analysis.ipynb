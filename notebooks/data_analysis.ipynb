{
 "cells": [
  {
   "cell_type": "code",
   "execution_count": 6,
   "metadata": {},
   "outputs": [
    {
     "name": "stdout",
     "output_type": "stream",
     "text": [
      "✅ Data loaded successfully!\n",
      "       Type   Provider Indentifier ProviderType         ServiceArea  \\\n",
      "0  Provider  IDAUT93871201046243XC    PHYSICIAN  DATES SERVICE AREA   \n",
      "1  Provider  IDAUT93871201046243XC    PHYSICIAN  DATES SERVICE AREA   \n",
      "2  Provider  IDAUT93871201046243XC    PHYSICIAN  DATES SERVICE AREA   \n",
      "3  Provider  IDAUT93871201046243XC    PHYSICIAN  DATES SERVICE AREA   \n",
      "4  Provider  IDAUT93871201046243XC    PHYSICIAN  DATES SERVICE AREA   \n",
      "\n",
      "            Specialty   UserType ReportingPeriodStartDate  \\\n",
      "0  Radiation Oncology  Physician                 3/1/2020   \n",
      "1  Radiation Oncology  Physician                 3/1/2020   \n",
      "2  Radiation Oncology  Physician                 3/1/2020   \n",
      "3  Radiation Oncology  Physician                 3/1/2020   \n",
      "4  Radiation Oncology  Physician                 3/1/2020   \n",
      "\n",
      "  ReportingPeriodEndDate                             Metric  Numerator  \\\n",
      "0              3/28/2020          Time in In Basket per Day  45.449977   \n",
      "1              3/28/2020  Time in In Basket per Appointment  45.449977   \n",
      "2              3/28/2020             Time in Orders per Day  43.266647   \n",
      "3              3/28/2020     Time in Orders per Appointment  43.266647   \n",
      "4              3/28/2020     Orders with Team Contributions   2.000000   \n",
      "\n",
      "   Denominator     Value  \n",
      "0          6.0  7.574996  \n",
      "1         24.0  1.893749  \n",
      "2          6.0  7.211108  \n",
      "3         24.0  1.802777  \n",
      "4          2.0  1.000000  \n"
     ]
    }
   ],
   "source": [
    "import pandas as pd\n",
    "\n",
    "# Define the correct file path\n",
    "file_path = r\"C:\\Users\\saich\\Downloads\\MRP_Dashboard\\data\\cleaned_data.xlsx\"  # r prefix handles Windows paths\n",
    "\n",
    "try:\n",
    "    df = pd.read_excel(file_path)  # Load Excel file\n",
    "    print(\"✅ Data loaded successfully!\")\n",
    "    print(df.head())  # Display first few rows\n",
    "except FileNotFoundError:\n",
    "    print(\"❌ Error: File not found! Check the file path again.\")\n",
    "except Exception as e:\n",
    "    print(f\"❌ Error loading file: {e}\")\n"
   ]
  },
  {
   "cell_type": "code",
   "execution_count": 7,
   "metadata": {},
   "outputs": [
    {
     "name": "stdout",
     "output_type": "stream",
     "text": [
      "✅ Excel file converted to CSV at: C:\\Users\\saich\\Downloads\\MRP_Dashboard\\data\\cleaned_data.csv\n"
     ]
    }
   ],
   "source": [
    "csv_path = r\"C:\\Users\\saich\\Downloads\\MRP_Dashboard\\data\\cleaned_data.csv\"  # Save as CSV\n",
    "\n",
    "df.to_csv(csv_path, index=False)\n",
    "print(f\"✅ Excel file converted to CSV at: {csv_path}\")\n"
   ]
  },
  {
   "cell_type": "code",
   "execution_count": 9,
   "metadata": {},
   "outputs": [
    {
     "name": "stdout",
     "output_type": "stream",
     "text": [
      "✅ CSV file loaded successfully!\n",
      "🔹 Shape of data: (363827, 12)\n",
      "🔹 Columns: ['Type', 'Provider Indentifier', 'ProviderType', 'ServiceArea', 'Specialty', 'UserType', 'ReportingPeriodStartDate', 'ReportingPeriodEndDate', 'Metric', 'Numerator', 'Denominator', 'Value']\n",
      "\n",
      "🟢 First 5 rows:\n",
      "       Type   Provider Indentifier ProviderType         ServiceArea  \\\n",
      "0  Provider  IDAUT93871201046243XC    PHYSICIAN  DATES SERVICE AREA   \n",
      "1  Provider  IDAUT93871201046243XC    PHYSICIAN  DATES SERVICE AREA   \n",
      "2  Provider  IDAUT93871201046243XC    PHYSICIAN  DATES SERVICE AREA   \n",
      "3  Provider  IDAUT93871201046243XC    PHYSICIAN  DATES SERVICE AREA   \n",
      "4  Provider  IDAUT93871201046243XC    PHYSICIAN  DATES SERVICE AREA   \n",
      "\n",
      "            Specialty   UserType ReportingPeriodStartDate  \\\n",
      "0  Radiation Oncology  Physician                 3/1/2020   \n",
      "1  Radiation Oncology  Physician                 3/1/2020   \n",
      "2  Radiation Oncology  Physician                 3/1/2020   \n",
      "3  Radiation Oncology  Physician                 3/1/2020   \n",
      "4  Radiation Oncology  Physician                 3/1/2020   \n",
      "\n",
      "  ReportingPeriodEndDate                             Metric  Numerator  \\\n",
      "0              3/28/2020          Time in In Basket per Day  45.449977   \n",
      "1              3/28/2020  Time in In Basket per Appointment  45.449977   \n",
      "2              3/28/2020             Time in Orders per Day  43.266647   \n",
      "3              3/28/2020     Time in Orders per Appointment  43.266647   \n",
      "4              3/28/2020     Orders with Team Contributions   2.000000   \n",
      "\n",
      "   Denominator     Value  \n",
      "0          6.0  7.574996  \n",
      "1         24.0  1.893749  \n",
      "2          6.0  7.211108  \n",
      "3         24.0  1.802777  \n",
      "4          2.0  1.000000  \n"
     ]
    }
   ],
   "source": [
    "import pandas as pd\n",
    "\n",
    "# Define the path to the CSV file\n",
    "csv_path = r\"C:\\Users\\saich\\Downloads\\MRP_Dashboard\\data\\cleaned_data.csv\"\n",
    "\n",
    "# Load and check the data\n",
    "try:\n",
    "    df = pd.read_csv(csv_path)\n",
    "    print(\"✅ CSV file loaded successfully!\")\n",
    "    print(f\"🔹 Shape of data: {df.shape}\")  # Rows & Columns count\n",
    "    print(f\"🔹 Columns: {list(df.columns)}\")  # Display column names\n",
    "    print(\"\\n🟢 First 5 rows:\")\n",
    "    print(df.head())  # Display first few rows\n",
    "except FileNotFoundError:\n",
    "    print(\"❌ Error: CSV file not found! Check the file path.\")\n",
    "except Exception as e:\n",
    "    print(f\"❌ Error loading CSV: {e}\")\n"
   ]
  }
 ],
 "metadata": {
  "kernelspec": {
   "display_name": "Python 3",
   "language": "python",
   "name": "python3"
  },
  "language_info": {
   "codemirror_mode": {
    "name": "ipython",
    "version": 3
   },
   "file_extension": ".py",
   "mimetype": "text/x-python",
   "name": "python",
   "nbconvert_exporter": "python",
   "pygments_lexer": "ipython3",
   "version": "3.13.2"
  }
 },
 "nbformat": 4,
 "nbformat_minor": 2
}
